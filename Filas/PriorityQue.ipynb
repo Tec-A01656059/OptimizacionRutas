{
 "cells": [
  {
   "cell_type": "code",
   "execution_count": 1,
   "metadata": {},
   "outputs": [
    {
     "name": "stderr",
     "output_type": "stream",
     "text": [
      "c:\\Users\\soalv\\miniconda3\\envs\\SLearn\\Lib\\site-packages\\numpy\\_distributor_init.py:30: UserWarning: loaded more than 1 DLL from .libs:\n",
      "c:\\Users\\soalv\\miniconda3\\envs\\SLearn\\Lib\\site-packages\\numpy\\.libs\\libopenblas64__v0.3.21-gcc_10_3_0.dll\n",
      "c:\\Users\\soalv\\miniconda3\\envs\\SLearn\\Lib\\site-packages\\numpy\\.libs\\libopenblas64__v0.3.23-246-g3d31191b-gcc_10_3_0.dll\n",
      "  warnings.warn(\"loaded more than 1 DLL from .libs:\"\n"
     ]
    }
   ],
   "source": [
    "# Import libraries\n",
    "import numpy as np\n",
    "import matplotlib.pyplot as plt\n",
    "import random\n",
    "import math\n",
    "import time\n",
    "import sys"
   ]
  },
  {
   "cell_type": "code",
   "execution_count": 2,
   "metadata": {},
   "outputs": [],
   "source": [
    "m = 9999999\n",
    "\n",
    "estadia = 60\n",
    "\n",
    "travel_time = [\n",
    "    [m, 1.22, 0.26, 1.96, 0.40, 2.55, 3.00, 1.83, 1.83, 2.82, 1.43, 0.88, 0.61],\n",
    "    [1.22, m, 1.03, 1.65, 0.85, 2.24, 4.22, 1.52, 2.19, 2.51, 1.74, 0.34, 0.61],\n",
    "    [0.26, 1.03, m, 1.71, 0.17, 2.30, 3.23, 1.57, 2.08, 2.56, 1.68, 0.68, 0.54],\n",
    "    [1.96, 1.65, 1.71, m, 1.56, 0.59, 4.93, 0.30, 3.79, 0.85, 3.39, 1.81, 2.25],\n",
    "    [0.40, 0.85, 0.17, 1.56, m, 2.15, 3.37, 1.43, 2.23, 2.41, 1.83, 0.51, 0.69],\n",
    "    [2.55, 2.24, 2.30, 0.59, 2.15, m, 5.52, 0.72, 4.38, 0.26, 3.98, 2.40, 2.84],\n",
    "    [3.00, 4.22, 3.23, 4.93, 3.37, 5.52, m, 4.80, 2.03, 5.79, 3.24, 3.87, 3.61],\n",
    "    [1.83, 1.52, 1.57, 0.30, 1.43, 0.72, 4.80, m, 3.66, 0.98, 3.26, 1.68, 2.12],\n",
    "    [1.83, 2.19, 2.08, 3.79, 2.23, 4.38, 2.03, 3.66, m, 4.64, 1.21, 1.98, 1.58],\n",
    "    [2.82, 2.51, 2.56, 0.85, 2.41, 0.26, 5.79, 0.98, 4.64, m, 4.24, 2.67, 3.10],\n",
    "    [1.43, 1.74, 1.68, 3.39, 1.83, 3.98, 3.24, 3.26, 1.21, 4.24, m, 2.12, 1.14],\n",
    "    [0.88, 0.34, 0.68, 1.81, 0.51, 2.40, 3.87, 1.68, 1.98, 2.67, 1.58, m, 0.44],\n",
    "    [0.61, 0.61, 0.54, 2.25, 0.69, 2.84, 3.61, 2.12, 1.58, 3.10, 1.14, 0.44, m]\n",
    "]\n",
    "\n",
    "\n",
    "\n",
    "times = [\n",
    "    [m, 31.22, 90.26, 61.96, 180.40, 142.55, 153.00, 61.83, 61.83, 22.82, 241.43, 160.88, 30.61],\n",
    "    [181.22, m, 91.03, 61.65, 180.85, 142.24, 154.22, 61.52, 62.19, 22.51, 241.74, 160.34, 30.61],\n",
    "    [180.26, 31.03, m, 61.71, 180.17, 142.30, 153.23, 61.57, 62.08, 22.56, 241.68, 160.68, 30.54],\n",
    "    [181.96, 31.65, 91.71, m, 181.56, 140.59, 154.93, 60.30, 63.79, 20.85, 243.39, 161.81, 32.25],\n",
    "    [180.40, 30.85, 90.17, 61.56, m, 142.15, 153.37, 61.43, 62.23, 22.41, 241.83, 160.51, 30.69],\n",
    "    [182.55, 32.24, 92.30, 60.59, 182.15, m, 155.52, 60.72, 64.38, 20.26, 243.98, 162.40, 32.84],\n",
    "    [183.00, 34.22, 93.23, 64.93, 183.37, 145.52, m, 64.80, 62.03, 25.79, 243.24, 163.87, 33.61],\n",
    "    [181.83, 31.52, 91.57, 60.30, 181.43, 140.72, 154.80, m, 63.66, 20.98, 243.26, 161.68, 32.12],\n",
    "    [181.83, 32.19, 92.08, 63.79, 182.23, 144.38, 152.03, 63.66, m, 24.64, 241.21, 161.98, 31.58],\n",
    "    [182.82, 32.51, 92.56, 60.85, 182.41, 140.26, 155.79, 60.98, 64.64, m, 244.24, 162.67, 33.10],\n",
    "    [181.43, 31.74, 91.68, 63.39, 181.83, 143.98, 153.24, 63.26, 61.21, 24.24, m, 162.12, 31.14],\n",
    "    [180.88, 30.34, 90.68, 61.81, 180.51, 142.40, 153.87, 61.68, 61.98, 22.67, 241.58, m, 30.44],\n",
    "    [180.61, 30.61, 90.54, 62.25, 180.69, 142.84, 153.61, 62.12, 61.58, 23.10, 241.14, 160.44, m]\n",
    "]\n",
    "\n",
    "\n",
    "sat_vi = [\n",
    "    [0,0,0,0,0,0,0,0,3.76,0,0,0,0],\n",
    "    [0,0,0,0,0,0,0,0,3.49,0,0,0,0],\n",
    "    [3.07,2.04,1.61,0.92,3.45,0,4.09,3.68,0,3.68,0,4.09,4.09],\n",
    "    [2.61,0.52,1.17,2.35,2.35,2.35,4.17,3.76,3.76,0,3.19,4.17,4.17],\n",
    "    [2.09,0,1.17,1.41,1.17,1.17,3.13,3.76,3.76,3.76,1.32,3.13,3.13],\n",
    "    [1.00, 0.50, 1.35, 0.45, 0.56, 0.56, 2.49, 3.59, 3.59, 3.59, 0 ,2.49 ,2.49],\n",
    "    [1.02, 1.02, 0.92, 0, 0.57, 0, 1.53, 3.68, 3.68, 0, 1.24, 1.53, 1.53],\n",
    "    [0.51, 1.02, 0.46, 0.46, 0, 0, 1.02, 3.68, 3.68, 0, 0, 1.02, 1.02],\n",
    "    [0, 1.56, 0, 0.94, 0, 0.59, 1.04, 0.94, 0.94, 0, 0, 1.04, 1.04],\n",
    "    [0, 2.18, 0.39, 0, 0.98, 0, 0.87, 3.14, 3.14, 0, 2.12, 0.87, 0.87],\n",
    "    [0, 0, 0, 0, 2.15, 0, 0.96, 0.86, 0.86, 0, 1.16, 0.96, 0.96],\n",
    "    [0, 0, 0, 0, 0, 0, 0.52, 4.70, 4.70, 0, 0.36, 0.52, 0.52],\n",
    "    [0,0,0,0,0,0,0,0,0,0,0,0,0]\n",
    "]\n",
    "\n",
    "\n",
    "sat_sab = [\n",
    "    [0,0,0,0,0,0,0,0,3.76,0,0,0,0],\n",
    "    [0,0,0,0,0,0,0,0,3.49,0,0,0,0],\n",
    "    [3.45, 4.60, 1.38, 1.15, 3.54, 0, 4.25, 3.68, 0, 0, 0, 4.25, 4.25],\n",
    "    [2.82, 1.34, 0, 1.17, 2.53, 2.09, 3.97, 3.76, 3.76, 0, 0.23, 3.97, 3.97],\n",
    "    [1.88, 0.34, 0.47, 0, 1.81, 1.04, 3.61, 3.76, 3.76, 0, 0, 3.61, 3.61],\n",
    "    [1.35, 0, 1.35, 0, 1.04, 1.00, 2.76, 3.59, 3.59, 0, 0.13, 2.76, 2.76],\n",
    "    [0.92, 0, 1.38, 0, 0.35, 0.51, 2.12, 3.68, 3.68, 0, 0.14, 2.12, 2.12],\n",
    "    [0.46, 0.66, 0.92, 0, 0, 0.51, 1.77, 3.68, 3.68, 0, 0, 1.77, 1.77],\n",
    "    [0.23, 4.69, 0, 1.17, 0, 0, 3.25, 0.94, 0.94, 0, 0, 1.44, 1.44],\n",
    "    [0, 3.93, 0, 0, 1.21, 0, 0.91, 3.14, 3.14, 0, 0, 0.91, 0.91],\n",
    "    [0, 0, 0, 0, 1.65, 0, 3.64, 0.86, 0.86, 0, 0, 0.66, 0.66],\n",
    "    [0, 0, 0, 0, 0, 0, 4.34, 4.70, 4.70, 0, 0, 0.36, 0.36],\n",
    "    [0,0,0,0,0,0,4.26,0,0,0,0,0,0]\n",
    "]\n",
    "\n",
    "distances = np.array([\n",
    "    [999, 0.61, 0.13, 0.98, 0.20, 1.28, 1.50, 0.92, 0.91, 1.41, 0.71, 0.44, 0.31],\n",
    "    [0.61, 999, 0.51, 0.83, 0.43, 1.12, 2.11, 0.76, 1.10, 1.25, 0.87, 0.17, 0.31],\n",
    "    [0.13, 0.51, 999, 0.85, 0.09, 1.15, 1.61, 0.79, 1.04, 1.28, 0.84, 0.34, 0.27],\n",
    "    [0.98, 0.83, 0.85, 999, 0.78, 0.30, 2.47, 0.15, 1.89, 0.43, 1.69, 0.91, 1.12],\n",
    "    [0.20, 0.43, 0.09, 0.78, 999, 1.08, 1.69, 0.71, 1.11, 1.21, 0.92, 0.25, 0.35],\n",
    "    [1.28, 1.12, 1.15, 0.30, 1.08, 999, 2.76, 0.36, 2.19, 0.13, 1.99, 1.20, 1.42],\n",
    "    [1.50, 2.11, 1.61, 2.47, 1.69, 2.76, 999, 2.40, 1.01, 2.89, 1.62, 1.94, 1.80],\n",
    "    [0.92, 0.76, 0.79, 0.15, 0.71, 0.36, 2.40, 999, 1.83, 0.49, 1.63, 0.84, 1.06],\n",
    "    [0.91, 1.10, 1.04, 1.89, 1.11, 2.19, 1.01, 1.83, 999, 2.32, 0.61, 0.99, 0.79],\n",
    "    [1.41, 1.25, 1.28, 0.43, 1.21, 0.13, 2.89, 0.49, 2.32, 999, 2.12, 1.33, 1.55],\n",
    "    [0.71, 0.87, 0.84, 1.69, 0.92, 1.99, 1.62, 1.63, 0.61, 2.12, 999, 0.79, 0.57],\n",
    "    [0.44, 0.17, 0.34, 0.91, 0.25, 1.20, 1.94, 0.84, 0.99, 1.33, 0.79, 999, 0.22],\n",
    "    [0.31, 0.31, 0.27, 1.12, 0.35, 1.42, 1.80, 1.06, 0.79, 1.55, 0.57, 0.22, 999]\n",
    "])"
   ]
  },
  {
   "cell_type": "code",
   "execution_count": 3,
   "metadata": {},
   "outputs": [],
   "source": [
    "def next_destination(origin, time, sat_matrix, travel_matrix, visited):\n",
    "    values = [i[time] for i in sat_matrix]\n",
    "    distances = [i[origin] for i in travel_matrix]\n",
    "    index = [i for i in range(len(values))]\n",
    "    priority = [[i, a/b] for i, a,b in zip(index,values, distances)]\n",
    "    priority.sort(key=lambda x: x[1], reverse=True)\n",
    "    \n",
    "    while priority:\n",
    "        destination = priority[0][0]\n",
    "        if destination not in visited:\n",
    "            return destination\n",
    "        priority.pop(0)\n",
    "    return None"
   ]
  },
  {
   "cell_type": "code",
   "execution_count": 4,
   "metadata": {},
   "outputs": [],
   "source": [
    "def generate_path(origin, sat_matrix, time_matrix, travel_matrix):\n",
    "    path = [[origin, 0]]\n",
    "    visited = [origin]\n",
    "    total_sat = sat_matrix[origin][0]\n",
    "    travel_time = 0\n",
    "    total_time = 0\n",
    "    current_point = origin\n",
    "    current_time = 0\n",
    "    while len(path) < len(sat_matrix):\n",
    "        destination = next_destination(current_point, current_time, sat_matrix, travel_matrix, visited)\n",
    "        start_time = int(current_time + (time_matrix[origin][destination] - travel_matrix[origin][destination]) // 60)\n",
    "        if destination == None:\n",
    "            break \n",
    "        visited.append(destination)\n",
    "        path.append([destination, start_time])\n",
    "        current_point = destination\n",
    "        current_time = start_time\n",
    "        total_sat += sat_matrix[destination][current_time]\n",
    "        travel_time += travel_matrix[origin][destination]\n",
    "        total_time += time_matrix[origin][destination]\n",
    "    return path, total_sat, travel_time, total_time"
   ]
  },
  {
   "cell_type": "code",
   "execution_count": 5,
   "metadata": {},
   "outputs": [],
   "source": [
    "sat_full = sat_vi.copy()\n",
    "for i in range(len(sat_full)): \n",
    "    sat_vi[i].extend(sat_sab[i])\n",
    "\n",
    "travel_full = travel_time.copy()\n",
    "for i in range(len(travel_full)):\n",
    "    travel_time[i].extend(travel_time[i])\n",
    "\n",
    "time_full = times.copy()\n",
    "for i in range(len(time_full)):\n",
    "    times[i].extend(times[i])"
   ]
  },
  {
   "cell_type": "code",
   "execution_count": 18,
   "metadata": {},
   "outputs": [
    {
     "name": "stdout",
     "output_type": "stream",
     "text": [
      "[[1, 0], [2, 1], [9, 1], [5, 3], [3, 4], [4, 7], [11, 9], [0, 12], [10, 16], [8, 17], [6, 19], [12, 19], [7, 20]]\n",
      "20.840000000000003\n",
      "20.119999999999997\n",
      "1390.12\n"
     ]
    }
   ],
   "source": [
    "route, satisfaction, traveltime, totaltime = generate_path(1, sat_full, time_full, travel_full)\n",
    "print(route)\n",
    "print(satisfaction)\n",
    "print(traveltime)\n",
    "print(totaltime)"
   ]
  },
  {
   "cell_type": "code",
   "execution_count": 7,
   "metadata": {},
   "outputs": [],
   "source": [
    "initial_sats = [i[0]+1 for i in sat_vi]\n",
    "initial_point_probs = [initial_sats[i]/sum(initial_sats) for i in range(len(initial_sats))]\n",
    "lim_initial = [[sum(initial_point_probs[:i]), sum(initial_point_probs[:i+1])] for i in range(len(initial_point_probs))]"
   ]
  },
  {
   "cell_type": "code",
   "execution_count": 19,
   "metadata": {},
   "outputs": [
    {
     "name": "stdout",
     "output_type": "stream",
     "text": [
      "[[3, 0], [2, 1], [9, 1], [5, 3], [4, 6], [11, 8], [1, 8], [0, 11], [10, 15], [6, 17], [7, 18], [8, 19], [12, 19]]\n",
      "13.485000000000003\n",
      "24.79\n",
      "1364.79\n"
     ]
    }
   ],
   "source": [
    "# Montecarlo simulation for starting point\n",
    "def montecarlo_initial():\n",
    "    r = random.random()\n",
    "    for i in range(len(lim_initial)):\n",
    "        if r >= lim_initial[i][0] and r < lim_initial[i][1]:\n",
    "            return i\n",
    "    return None\n",
    "\n",
    "def montecarlo_simulations(n):\n",
    "    best_path = []\n",
    "    best_sat = 0\n",
    "    best_travel = 0\n",
    "    best_time = 0\n",
    "    for i in range(n):\n",
    "        origin = montecarlo_initial()\n",
    "        path, sat, travel, time = generate_path(origin, sat_full, time_full, travel_full)\n",
    "        if travel > 15:\n",
    "            sat = sat/2\n",
    "        # generate new path for same origin if travel time is greater than 15\n",
    "        if sat > best_sat:\n",
    "            best_path = path\n",
    "            best_sat = sat\n",
    "            best_travel = travel\n",
    "            best_time = time\n",
    "    return best_path, best_sat, best_travel, best_time\n",
    "\n",
    "best_path, best_sat, best_travel, best_time = montecarlo_simulations(100000)\n",
    "print(best_path)\n",
    "print(best_sat)\n",
    "print(best_travel)\n",
    "print(best_time)"
   ]
  },
  {
   "cell_type": "code",
   "execution_count": 9,
   "metadata": {},
   "outputs": [
    {
     "data": {
      "text/plain": [
       "25.33"
      ]
     },
     "execution_count": 9,
     "metadata": {},
     "output_type": "execute_result"
    }
   ],
   "source": [
    "# Get travel time for indicated path\n",
    "def get_travel_time(path):\n",
    "    total_time = 0\n",
    "    for i in range(len(path)-1):\n",
    "        total_time += travel_full[path[i]][path[i+1]]\n",
    "    return total_time\n",
    "\n",
    "my_path = [7,3,1,10,9,11,0,6,12,5,4,2,8]\n",
    "get_travel_time(my_path)"
   ]
  }
 ],
 "metadata": {
  "kernelspec": {
   "display_name": "SLearn",
   "language": "python",
   "name": "python3"
  },
  "language_info": {
   "codemirror_mode": {
    "name": "ipython",
    "version": 3
   },
   "file_extension": ".py",
   "mimetype": "text/x-python",
   "name": "python",
   "nbconvert_exporter": "python",
   "pygments_lexer": "ipython3",
   "version": "3.11.5"
  }
 },
 "nbformat": 4,
 "nbformat_minor": 2
}
